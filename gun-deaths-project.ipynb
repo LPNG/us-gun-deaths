{
 "cells": [
  {
   "cell_type": "markdown",
   "metadata": {
    "collapsed": true
   },
   "source": [
    "# Exploring Gun Deaths in the US\n",
    "\n",
    "The dataset contains data on gun deaths occuring in the USA from 2012 to 2014. Each row represents one fatality, with the following column structure:\n",
    "\n",
    "- `row identifier` - record count\n",
    "- `year` - year of incident\n",
    "- `month` - month of incident\n",
    "- `intent` - the intent of the perpetrator of the crime. Possible fields include: Suicide, Accidental, NA, Homicide, Undetermined\n",
    "- `police` - whether police was involved: 1 (true), 0 (false)\n",
    "- `sex` - the gender of the victim\n",
    "- `age` - victim's age\n",
    "- `race` - victim's race: \n",
    ">- Asian/Pacific Islander \n",
    ">- Native American/Native Alaskan \n",
    ">- Black \n",
    ">- Hispanic \n",
    ">- White\n",
    "\n",
    "- `hispanic` - a code indicating Hispanic origin of the Victim\n",
    "- `place` - where the shooting occured\n",
    "- `education` - victim's level of education:\n",
    ">- 1 - Less than High School\n",
    ">- 2 - Graduated from High School or equivalent\n",
    ">- 3 - Some College\n",
    ">- 4 - At least graduated from College\n",
    ">- 5 - Not available \n"
   ]
  },
  {
   "cell_type": "code",
   "execution_count": 1,
   "metadata": {},
   "outputs": [
    {
     "ename": "FileNotFoundError",
     "evalue": "[Errno 2] No such file or directory: 'guns.csv'",
     "output_type": "error",
     "traceback": [
      "\u001b[0;31m---------------------------------------------------------------------------\u001b[0m",
      "\u001b[0;31mFileNotFoundError\u001b[0m                         Traceback (most recent call last)",
      "\u001b[0;32m<ipython-input-1-f67955aa3219>\u001b[0m in \u001b[0;36m<module>\u001b[0;34m()\u001b[0m\n\u001b[1;32m      1\u001b[0m \u001b[0;31m# read in csv file and parse header from data\u001b[0m\u001b[0;34m\u001b[0m\u001b[0;34m\u001b[0m\u001b[0m\n\u001b[1;32m      2\u001b[0m \u001b[0;32mimport\u001b[0m \u001b[0mcsv\u001b[0m\u001b[0;34m\u001b[0m\u001b[0m\n\u001b[0;32m----> 3\u001b[0;31m \u001b[0mf\u001b[0m \u001b[0;34m=\u001b[0m \u001b[0mopen\u001b[0m\u001b[0;34m(\u001b[0m\u001b[0;34m\"guns.csv\"\u001b[0m\u001b[0;34m,\u001b[0m\u001b[0;34m\"r\"\u001b[0m\u001b[0;34m)\u001b[0m\u001b[0;34m\u001b[0m\u001b[0m\n\u001b[0m\u001b[1;32m      4\u001b[0m \u001b[0mdata\u001b[0m \u001b[0;34m=\u001b[0m \u001b[0mlist\u001b[0m\u001b[0;34m(\u001b[0m\u001b[0mcsv\u001b[0m\u001b[0;34m.\u001b[0m\u001b[0mreader\u001b[0m\u001b[0;34m(\u001b[0m\u001b[0mf\u001b[0m\u001b[0;34m)\u001b[0m\u001b[0;34m)\u001b[0m\u001b[0;34m\u001b[0m\u001b[0m\n\u001b[1;32m      5\u001b[0m \u001b[0mprint\u001b[0m\u001b[0;34m(\u001b[0m\u001b[0mdata\u001b[0m\u001b[0;34m[\u001b[0m\u001b[0;34m:\u001b[0m\u001b[0;36m5\u001b[0m\u001b[0;34m]\u001b[0m\u001b[0;34m)\u001b[0m\u001b[0;34m\u001b[0m\u001b[0m\n",
      "\u001b[0;31mFileNotFoundError\u001b[0m: [Errno 2] No such file or directory: 'guns.csv'"
     ]
    }
   ],
   "source": [
    "# read in csv file and parse header from data\n",
    "import csv\n",
    "f = open(\"gun-data.csv\",\"r\")\n",
    "data = list(csv.reader(f))\n",
    "print(data[:5])"
   ]
  },
  {
   "cell_type": "code",
   "execution_count": null,
   "metadata": {},
   "outputs": [],
   "source": [
    "headers = data[0]\n",
    "data = data[1:]\n",
    "print(headers)\n",
    "print(data[:5])"
   ]
  },
  {
   "cell_type": "code",
   "execution_count": null,
   "metadata": {},
   "outputs": [],
   "source": [
    "# count number of deaths per year\n",
    "years = [row[1] for row in data]\n",
    "year_counts = {}\n",
    "for y in years:\n",
    "    if y not in year_counts:\n",
    "        year_counts[y] = 1\n",
    "    else:\n",
    "        year_counts[y] += 1\n",
    "year_counts"
   ]
  },
  {
   "cell_type": "code",
   "execution_count": null,
   "metadata": {},
   "outputs": [],
   "source": [
    "# convert year/month columns to datetime objects\n",
    "import datetime as d\n",
    "dates = [d.datetime(year=int(row[1]), month=int(row[2]), day=1) for row in data]\n",
    "print(dates[:5])"
   ]
  },
  {
   "cell_type": "code",
   "execution_count": null,
   "metadata": {},
   "outputs": [],
   "source": [
    "date_counts = {}\n",
    "for date in dates:\n",
    "    if date not in date_counts:\n",
    "        date_counts[date] = 1\n",
    "    else:\n",
    "        date_counts[date] += 1\n",
    "date_counts\n"
   ]
  },
  {
   "cell_type": "code",
   "execution_count": null,
   "metadata": {},
   "outputs": [],
   "source": [
    "sex_counts = {}\n",
    "for row in data:\n",
    "    if row[5] not in sex_counts:\n",
    "        sex_counts[row[5]] = 1\n",
    "    else:\n",
    "        sex_counts[row[5]] += 1\n",
    "sex_counts\n"
   ]
  },
  {
   "cell_type": "code",
   "execution_count": null,
   "metadata": {},
   "outputs": [],
   "source": [
    "race_counts = {}\n",
    "for row in data:\n",
    "    if row[7] not in race_counts:\n",
    "        race_counts[row[7]] = 1\n",
    "    else:\n",
    "        race_counts[row[7]] += 1\n",
    "race_counts"
   ]
  },
  {
   "cell_type": "markdown",
   "metadata": {},
   "source": [
    "# Analysis Pt. 1: Race vs. Sex\n",
    "- Incident counts remain relatively consistent by day, generally averaging ~2,700\n",
    "- Victims of gun violence are predominantly male\n",
    "- Whites and Blacks comprise the majority of victims based on total counts"
   ]
  },
  {
   "cell_type": "code",
   "execution_count": null,
   "metadata": {},
   "outputs": [],
   "source": [
    "f = open(\"census.csv\",'r')\n",
    "census = list(csv.reader(f))\n",
    "census"
   ]
  },
  {
   "cell_type": "code",
   "execution_count": null,
   "metadata": {},
   "outputs": [],
   "source": [
    "mapping = {}\n",
    "for i in range(-7,0):\n",
    "    census[1][i] = int(census[1][i])\n",
    "\n",
    "mapping[\"White\"] = census[1][-7]\n",
    "mapping[\"Hispanic\"] = census[1][-6]\n",
    "mapping[\"Black\"] = census[1][-5]\n",
    "mapping[\"Native American/Native Alaskan\"] = census[1][-4]\n",
    "mapping[\"Asian/Pacific Islander\"] = census[1][-2] + census[1][-3]\n",
    "mapping\n"
   ]
  },
  {
   "cell_type": "code",
   "execution_count": null,
   "metadata": {},
   "outputs": [],
   "source": [
    "race_per_hundredk = {}\n",
    "for k, v in race_counts.items():\n",
    "    race_per_hundredk[k] = round(v / mapping[k] * 100000, 2)\n",
    "race_per_hundredk"
   ]
  },
  {
   "cell_type": "code",
   "execution_count": null,
   "metadata": {
    "scrolled": true
   },
   "outputs": [],
   "source": [
    "intents = [row[3] for row in data]\n",
    "races = [row[7] for row in data]\n",
    "print(intents[:5])\n",
    "print(races[:5])\n",
    "\n",
    "homicide_race_counts = {}\n",
    "for i, race in enumerate(races):\n",
    "    if intents[i] == \"Homicide\":\n",
    "        if race not in homicide_race_counts:\n",
    "            homicide_race_counts[race] = 1\n",
    "        else:\n",
    "            homicide_race_counts[race] += 1\n",
    "homicide_race_counts"
   ]
  },
  {
   "cell_type": "code",
   "execution_count": null,
   "metadata": {},
   "outputs": [],
   "source": [
    "for k, v in homicide_race_counts.items():\n",
    "    homicide_race_counts[k] = round(v / mapping[k] * 100000, 2)\n",
    "homicide_race_counts"
   ]
  },
  {
   "cell_type": "markdown",
   "metadata": {},
   "source": [
    "# Analysis Pt. 2: Gun Death Rates by Race\n",
    "- Based on total counts, it looks like Whites are most susceptible to gun violence.\n",
    "- After examining each race on the same scale (per 100,000), the data shows that Blacks (48.5 per 100k) are most likely to be victims of gun violence compared to other races.\n",
    "- Looking at Homicides only, this disparity between Blacks and other races becomes more apparent. Homicide incidents are 12x more likely to occur to Black people than White people (4.6 per 100k) and 4x more likely than Hispanics (12.6 per 100k), the race with the second highest homicide rates.\n",
    "\n",
    "## Next Steps:\n",
    "1. Identify how other intents of gun violence incidents vary by race:\n",
    "> - Ratios of each intent per race\n",
    "> - Rates per hundred thousand of each intent\n",
    "\n",
    "2. Analyze trends in gun deaths over time\n",
    "> - Total gun deaths per year/month\n",
    "> - Total gun deaths per year/month categorized by intent\n",
    "> - Total gun deaths per year/month categorized by race\n",
    "\n",
    "3. Analyze correlations in education for groups with the highest gun deaths"
   ]
  },
  {
   "cell_type": "code",
   "execution_count": null,
   "metadata": {},
   "outputs": [],
   "source": [
    "def rates_per_100k_race(intent):\n",
    "    intents = [row[3] for row in data]\n",
    "    races = [row[7] for row in data]\n",
    "    race_counts = {}\n",
    "    for i, race in enumerate(races):\n",
    "        if intents[i] == intent:\n",
    "            if race not in race_counts:\n",
    "                race_counts[race] = 1\n",
    "            else:\n",
    "                race_counts[race] += 1\n",
    "    for k, v in race_counts.items():\n",
    "        race_counts[k] = round(v / mapping[k] * 100000, 2)\n",
    "    return race_counts\n",
    "\n",
    "accidental_race_counts = rates_per_100k_race(\"Accidental\")\n",
    "suicide_race_counts = rates_per_100k_race(\"Suicide\")"
   ]
  },
  {
   "cell_type": "code",
   "execution_count": null,
   "metadata": {},
   "outputs": [],
   "source": [
    "accidental_race_counts"
   ]
  },
  {
   "cell_type": "code",
   "execution_count": null,
   "metadata": {},
   "outputs": [],
   "source": [
    "suicide_race_counts"
   ]
  },
  {
   "cell_type": "code",
   "execution_count": null,
   "metadata": {},
   "outputs": [],
   "source": [
    "def intent_ratios(race):\n",
    "    intents = [row[3] for row in data]\n",
    "    races = [row[7] for row in data]\n",
    "    \n",
    "    # count gun incidents for each intent under given race input\n",
    "    counts = {}\n",
    "\n",
    "    for i, intent in enumerate(intents):\n",
    "        if races[i] == race:\n",
    "            if intent not in counts:\n",
    "                counts[intent] = 1\n",
    "            else:\n",
    "                counts[intent] += 1\n",
    "    \n",
    "    # calculate total counts per race in gun data\n",
    "    race_counts = {}\n",
    "    for row in data:\n",
    "        if row[7] not in race_counts:\n",
    "            race_counts[row[7]] = 1\n",
    "        else:\n",
    "            race_counts[row[7]] += 1\n",
    "    \n",
    "    # calculate ratios of each intent\n",
    "    for k, v in counts.items():\n",
    "        counts[k] = round(v / race_counts[race] * 100, 2)\n",
    "    \n",
    "    counts[\".Race\"] = race\n",
    "    return counts\n",
    "\n",
    "\n",
    "intent_ratios = [intent_ratios(race) for race in set(races)]\n",
    "intent_ratios\n"
   ]
  },
  {
   "cell_type": "code",
   "execution_count": null,
   "metadata": {},
   "outputs": [],
   "source": [
    "# convert year columns to datetime objects\n",
    "import datetime as d\n",
    "dates = [d.datetime(year=int(row[1]), month=1, day=1) for row in data]\n",
    "print(dates[:5])\n",
    "\n",
    "# calculate total gun death counts by year\n",
    "date_counts = {}\n",
    "for date in dates:\n",
    "    if date not in date_counts:\n",
    "        date_counts[date] = 1\n",
    "    else:\n",
    "        date_counts[date] += 1\n",
    "date_counts"
   ]
  },
  {
   "cell_type": "code",
   "execution_count": null,
   "metadata": {},
   "outputs": [],
   "source": [
    "# calculates gun death counts by intent per unit: month or year\n",
    "# defaults to month if no unit given\n",
    "def intent_date_counts(intent, unit=\"year/month\"):\n",
    "    import datetime as d\n",
    "    dates = []\n",
    "    if unit == \"year\":\n",
    "        dates = [d.datetime(year=int(row[1]), month=1, day=1) for row in data]\n",
    "    else:\n",
    "        dates = [d.datetime(year=1, month=int(row[2]), day=1) for row in data]        \n",
    "    \n",
    "    intents = [row[3] for row in data]\n",
    "    \n",
    "    # count number of gun deaths by intent based on enumerated lists\n",
    "    date_counts = {}\n",
    "    for i, date in enumerate(dates):\n",
    "        if intents[i] == intent:\n",
    "            if date not in date_counts:\n",
    "                date_counts[date] = 1\n",
    "            else:\n",
    "                date_counts[date] += 1\n",
    "    \n",
    "    # create sorted lsit for representation\n",
    "    date_counts = sorted([(k, v) for k, v in date_counts.items()])\n",
    "    date_counts.insert(0,\"Intent: \" + intent)\n",
    "    \n",
    "    return date_counts\n",
    "\n",
    "intent_per_year = [intent_date_counts(intent, \"year\") for intent in set(intents)]\n",
    "intent_per_year"
   ]
  },
  {
   "cell_type": "code",
   "execution_count": null,
   "metadata": {},
   "outputs": [],
   "source": [
    "intent_per_month = [intent_date_counts(intent, \"month\") for intent in set(intents)]\n",
    "intent_per_month"
   ]
  },
  {
   "cell_type": "code",
   "execution_count": null,
   "metadata": {},
   "outputs": [],
   "source": [
    "# calculates gun death counts by race per unit: month or year\n",
    "# defaults to month if no unit given\n",
    "def race_date_counts(race, unit=\"month\"):\n",
    "    import datetime as d\n",
    "    dates = []\n",
    "    if unit == \"year\":\n",
    "        dates = [d.datetime(year=int(row[1]), month=1, day=1) for row in data]\n",
    "    else:\n",
    "        dates = [d.datetime(year=1, month=int(row[2]), day=1) for row in data]        \n",
    "    \n",
    "    races = [row[7] for row in data]\n",
    "\n",
    "    # count number of gun deaths by intent based on enumerated lists\n",
    "    date_counts = {}\n",
    "    for i, date in enumerate(dates):\n",
    "        if races[i] == race:\n",
    "            if date not in date_counts:\n",
    "                date_counts[date] = 1\n",
    "            else:\n",
    "                date_counts[date] += 1\n",
    "    \n",
    "    # create sorted lsit for representation\n",
    "    date_counts = sorted([(k, v) for k, v in date_counts.items()])\n",
    "    date_counts.insert(0,\"Race: \" + race)\n",
    "    \n",
    "    return date_counts\n",
    "\n",
    "counts_per_year_by_race = [race_date_counts(race, \"year\") for race in set(races)]\n",
    "counts_per_year_by_race"
   ]
  },
  {
   "cell_type": "code",
   "execution_count": null,
   "metadata": {},
   "outputs": [],
   "source": [
    "counts_per_month_by_race = [race_date_counts(race, \"month\") for race in set(races)]\n",
    "counts_per_month_by_race"
   ]
  },
  {
   "cell_type": "markdown",
   "metadata": {},
   "source": [
    "# Analysis Pt. 3: Conclusion\n",
    "\n",
    "## Gun deaths categorized by intent\n",
    "- After analyzing gun deaths by intent, the data shows that **Blacks have the highest rate of Accidental gun deaths (.81) and Homicide gun deaths (48.47) per 100,000; while Whites have the highest rate of Suicide gun deaths (28.3) per 100,000.**\n",
    "- These findings are further supported after looking at intent ratios by population as shown below. **83.75% of gun deaths among Blacks are Homicide related whereas 83.6% of gun deaths among Whites are Suicide related.**\n",
    "- Intent ratios by population show us that most gun deaths for each race (~95%) are either Homicide or Suicide related. Asians and Native American/Native Alaskans are more likely to be involved in Suicide related cases whereas Hispanics are more likely to be involved in Homicide related cases.\n",
    "\n",
    ">  **Race: Black**\n",
    "  'Accidental': 1.41,\n",
    "  'Homicide': 83.75,\n",
    "  'Suicide': 14.3,\n",
    "  'Undetermined': 0.54\n",
    "  \n",
    ">  **Race: White**\n",
    "  'Accidental': 1.71,\n",
    "  'Homicide': 13.81,\n",
    "  'NA': 0.0,\n",
    "  'Suicide': 83.6,\n",
    "  'Undetermined': 0.88\n",
    "  \n",
    ">  **Race: Asian/Pacific Islander**\n",
    "  'Accidental': 0.9,\n",
    "  'Homicide': 42.16,\n",
    "  'Suicide': 56.18,\n",
    "  'Undetermined': 0.75}\n",
    "  \n",
    "> **Race: Native American/Native Alaskan**\n",
    "  'Accidental': 2.4,\n",
    "  'Homicide': 35.55,\n",
    "  'Suicide': 60.52,\n",
    "  'Undetermined': 1.53\n",
    "  \n",
    "> **Race: Hispanic**\n",
    "  'Accidental': 1.61,\n",
    "  'Homicide': 62.45,\n",
    "  'Suicide': 35.15,\n",
    "  'Undetermined': 0.8\n",
    "  \n",
    "## Gun deaths categorized by dates\n",
    "- After analyzing gun deaths by year and intent, two things become evident:\n",
    "    1. **Homicide counts have slowly declined from 2012 to 2014.** While we don't have corresponding census data to show that rates per 100,000 are also decreasing, it might be safe to assume that rates are also decreasing since population has generally been increasing.\n",
    "    2. **Suicide counts have slowly increased from 2012 to 2014.** However, due to a lack of census data during these years, it's uncertain as to whether or not counts have increased along with popuation growth, or have actually increased due to higher suicide rates.\n",
    "\n",
    "> **Homicide gun deaths per year**\n",
    "   -  2012: 12,093\n",
    "   -  2013: 11,674\n",
    "   -  2014: 11,409\n",
    "  \n",
    "> **Suicide gun deaths per year**\n",
    "  -  2012: 20,666\n",
    "  -  2013: 21,175\n",
    "  -  2014: 21,334\n"
   ]
  },
  {
   "cell_type": "code",
   "execution_count": null,
   "metadata": {
    "collapsed": true
   },
   "outputs": [],
   "source": []
  }
 ],
 "metadata": {
  "kernelspec": {
   "display_name": "Python 3",
   "language": "python",
   "name": "python3"
  },
  "language_info": {
   "codemirror_mode": {
    "name": "ipython",
    "version": 3
   },
   "file_extension": ".py",
   "mimetype": "text/x-python",
   "name": "python",
   "nbconvert_exporter": "python",
   "pygments_lexer": "ipython3",
   "version": "3.6.1"
  }
 },
 "nbformat": 4,
 "nbformat_minor": 1
}
