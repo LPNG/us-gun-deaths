{
 "cells": [
  {
   "cell_type": "markdown",
   "metadata": {
    "collapsed": true
   },
   "source": [
    "# Exploring Gun Deaths in the US\n",
    "\n",
    "The dataset contains data on gun deaths occuring in the USA from 2012 to 2014. Each row represents one fatality, with the following column structure:\n",
    "\n",
    "- `row identifier` - record count\n",
    "- `year` - year of incident\n",
    "- `month` - month of incident\n",
    "- `intent` - the intent of the perpetrator of the crime. Possible fields include: Suicide, Accidental, NA, Homicide, Undetermined\n",
    "- `police` - whether police was involved: 1 (true), 0 (false)\n",
    "- `sex` - the gender of the victim\n",
    "- `age` - victim's age\n",
    "- `race` - victim's race: \n",
    ">- Asian/Pacific Islander \n",
    ">- Native American/Native Alaskan \n",
    ">- Black \n",
    ">- Hispanic \n",
    ">- White\n",
    "\n",
    "- `hispanic` - a code indicating Hispanic origin of the Victim\n",
    "- `place` - where the shooting occured\n",
    "- `education` - victim's level of education:\n",
    ">- 1 - Less than High School\n",
    ">- 2 - Graduated from High School or equivalent\n",
    ">- 3 - Some College\n",
    ">- 4 - At least graduated from College\n",
    ">- 5 - Not available \n"
   ]
  },
  {
   "cell_type": "code",
   "execution_count": 1,
   "metadata": {},
   "outputs": [
    {
     "name": "stdout",
     "output_type": "stream",
     "text": [
      "[['', 'year', 'month', 'intent', 'police', 'sex', 'age', 'race', 'hispanic', 'place', 'education'], ['1', '2012', '01', 'Suicide', '0', 'M', '34', 'Asian/Pacific Islander', '100', 'Home', 'BA+'], ['2', '2012', '01', 'Suicide', '0', 'F', '21', 'White', '100', 'Street', 'Some college'], ['3', '2012', '01', 'Suicide', '0', 'M', '60', 'White', '100', 'Other specified', 'BA+'], ['4', '2012', '02', 'Suicide', '0', 'M', '64', 'White', '100', 'Home', 'BA+']]\n"
     ]
    }
   ],
   "source": [
    "# read in csv file and parse header from data\n",
    "import csv\n",
    "f = open(\"gun-data.csv\",\"r\")\n",
    "data = list(csv.reader(f))\n",
    "print(data[:5])"
   ]
  },
  {
   "cell_type": "code",
   "execution_count": 2,
   "metadata": {},
   "outputs": [
    {
     "name": "stdout",
     "output_type": "stream",
     "text": [
      "['', 'year', 'month', 'intent', 'police', 'sex', 'age', 'race', 'hispanic', 'place', 'education']\n",
      "[['1', '2012', '01', 'Suicide', '0', 'M', '34', 'Asian/Pacific Islander', '100', 'Home', 'BA+'], ['2', '2012', '01', 'Suicide', '0', 'F', '21', 'White', '100', 'Street', 'Some college'], ['3', '2012', '01', 'Suicide', '0', 'M', '60', 'White', '100', 'Other specified', 'BA+'], ['4', '2012', '02', 'Suicide', '0', 'M', '64', 'White', '100', 'Home', 'BA+'], ['5', '2012', '02', 'Suicide', '0', 'M', '31', 'White', '100', 'Other specified', 'HS/GED']]\n"
     ]
    }
   ],
   "source": [
    "headers = data[0]\n",
    "data = data[1:]\n",
    "print(headers)\n",
    "print(data[:5])"
   ]
  },
  {
   "cell_type": "code",
   "execution_count": 3,
   "metadata": {},
   "outputs": [
    {
     "data": {
      "text/plain": [
       "{'2012': 33563, '2013': 33636, '2014': 33599}"
      ]
     },
     "execution_count": 3,
     "metadata": {},
     "output_type": "execute_result"
    }
   ],
   "source": [
    "# count number of deaths per year\n",
    "years = [row[1] for row in data]\n",
    "year_counts = {}\n",
    "for y in years:\n",
    "    if y not in year_counts:\n",
    "        year_counts[y] = 1\n",
    "    else:\n",
    "        year_counts[y] += 1\n",
    "year_counts"
   ]
  },
  {
   "cell_type": "code",
   "execution_count": 4,
   "metadata": {},
   "outputs": [
    {
     "name": "stdout",
     "output_type": "stream",
     "text": [
      "[datetime.datetime(2012, 1, 1, 0, 0), datetime.datetime(2012, 1, 1, 0, 0), datetime.datetime(2012, 1, 1, 0, 0), datetime.datetime(2012, 2, 1, 0, 0), datetime.datetime(2012, 2, 1, 0, 0)]\n"
     ]
    }
   ],
   "source": [
    "# convert year/month columns to datetime objects\n",
    "import datetime as d\n",
    "dates = [d.datetime(year=int(row[1]), month=int(row[2]), day=1) for row in data]\n",
    "print(dates[:5])"
   ]
  },
  {
   "cell_type": "code",
   "execution_count": 5,
   "metadata": {},
   "outputs": [
    {
     "data": {
      "text/plain": [
       "{datetime.datetime(2012, 1, 1, 0, 0): 2758,\n",
       " datetime.datetime(2012, 2, 1, 0, 0): 2357,\n",
       " datetime.datetime(2012, 3, 1, 0, 0): 2743,\n",
       " datetime.datetime(2012, 4, 1, 0, 0): 2795,\n",
       " datetime.datetime(2012, 5, 1, 0, 0): 2999,\n",
       " datetime.datetime(2012, 6, 1, 0, 0): 2826,\n",
       " datetime.datetime(2012, 7, 1, 0, 0): 3026,\n",
       " datetime.datetime(2012, 8, 1, 0, 0): 2954,\n",
       " datetime.datetime(2012, 9, 1, 0, 0): 2852,\n",
       " datetime.datetime(2012, 10, 1, 0, 0): 2733,\n",
       " datetime.datetime(2012, 11, 1, 0, 0): 2729,\n",
       " datetime.datetime(2012, 12, 1, 0, 0): 2791,\n",
       " datetime.datetime(2013, 1, 1, 0, 0): 2864,\n",
       " datetime.datetime(2013, 2, 1, 0, 0): 2375,\n",
       " datetime.datetime(2013, 3, 1, 0, 0): 2862,\n",
       " datetime.datetime(2013, 4, 1, 0, 0): 2798,\n",
       " datetime.datetime(2013, 5, 1, 0, 0): 2806,\n",
       " datetime.datetime(2013, 6, 1, 0, 0): 2920,\n",
       " datetime.datetime(2013, 7, 1, 0, 0): 3079,\n",
       " datetime.datetime(2013, 8, 1, 0, 0): 2859,\n",
       " datetime.datetime(2013, 9, 1, 0, 0): 2742,\n",
       " datetime.datetime(2013, 10, 1, 0, 0): 2808,\n",
       " datetime.datetime(2013, 11, 1, 0, 0): 2758,\n",
       " datetime.datetime(2013, 12, 1, 0, 0): 2765,\n",
       " datetime.datetime(2014, 1, 1, 0, 0): 2651,\n",
       " datetime.datetime(2014, 2, 1, 0, 0): 2361,\n",
       " datetime.datetime(2014, 3, 1, 0, 0): 2684,\n",
       " datetime.datetime(2014, 4, 1, 0, 0): 2862,\n",
       " datetime.datetime(2014, 5, 1, 0, 0): 2864,\n",
       " datetime.datetime(2014, 6, 1, 0, 0): 2931,\n",
       " datetime.datetime(2014, 7, 1, 0, 0): 2884,\n",
       " datetime.datetime(2014, 8, 1, 0, 0): 2970,\n",
       " datetime.datetime(2014, 9, 1, 0, 0): 2914,\n",
       " datetime.datetime(2014, 10, 1, 0, 0): 2865,\n",
       " datetime.datetime(2014, 11, 1, 0, 0): 2756,\n",
       " datetime.datetime(2014, 12, 1, 0, 0): 2857}"
      ]
     },
     "execution_count": 5,
     "metadata": {},
     "output_type": "execute_result"
    }
   ],
   "source": [
    "date_counts = {}\n",
    "for date in dates:\n",
    "    if date not in date_counts:\n",
    "        date_counts[date] = 1\n",
    "    else:\n",
    "        date_counts[date] += 1\n",
    "date_counts\n"
   ]
  },
  {
   "cell_type": "code",
   "execution_count": 6,
   "metadata": {},
   "outputs": [
    {
     "data": {
      "text/plain": [
       "{'F': 14449, 'M': 86349}"
      ]
     },
     "execution_count": 6,
     "metadata": {},
     "output_type": "execute_result"
    }
   ],
   "source": [
    "sex_counts = {}\n",
    "for row in data:\n",
    "    if row[5] not in sex_counts:\n",
    "        sex_counts[row[5]] = 1\n",
    "    else:\n",
    "        sex_counts[row[5]] += 1\n",
    "sex_counts\n"
   ]
  },
  {
   "cell_type": "code",
   "execution_count": 7,
   "metadata": {},
   "outputs": [
    {
     "data": {
      "text/plain": [
       "{'Asian/Pacific Islander': 1326,\n",
       " 'Black': 23296,\n",
       " 'Hispanic': 9022,\n",
       " 'Native American/Native Alaskan': 917,\n",
       " 'White': 66237}"
      ]
     },
     "execution_count": 7,
     "metadata": {},
     "output_type": "execute_result"
    }
   ],
   "source": [
    "race_counts = {}\n",
    "for row in data:\n",
    "    if row[7] not in race_counts:\n",
    "        race_counts[row[7]] = 1\n",
    "    else:\n",
    "        race_counts[row[7]] += 1\n",
    "race_counts"
   ]
  },
  {
   "cell_type": "markdown",
   "metadata": {},
   "source": [
    "# Analysis Pt. 1: Race vs. Sex\n",
    "- Incident counts remain relatively consistent by day, generally averaging ~2,700\n",
    "- Victims of gun violence are predominantly male\n",
    "- Whites and Blacks comprise the majority of victims based on total counts"
   ]
  },
  {
   "cell_type": "code",
   "execution_count": 8,
   "metadata": {},
   "outputs": [
    {
     "data": {
      "text/plain": [
       "[['',\n",
       "  'Id',\n",
       "  'Year',\n",
       "  'Id.1',\n",
       "  'Sex',\n",
       "  'Id.2',\n",
       "  'Hispanic Origin',\n",
       "  'Id.3',\n",
       "  'Id2',\n",
       "  'Geography',\n",
       "  'Total',\n",
       "  'Race Alone - White',\n",
       "  'Race Alone - Hispanic',\n",
       "  'Race Alone - Black or African American',\n",
       "  'Race Alone - American Indian and Alaska Native',\n",
       "  'Race Alone - Asian',\n",
       "  'Race Alone - Native Hawaiian and Other Pacific Islander',\n",
       "  'Two or More Races'],\n",
       " ['0',\n",
       "  'cen42010',\n",
       "  'April 1, 2010 Census',\n",
       "  'totsex',\n",
       "  'Both Sexes',\n",
       "  'tothisp',\n",
       "  'Total',\n",
       "  '0100000US',\n",
       "  'NaN',\n",
       "  'United States',\n",
       "  '308745538',\n",
       "  '197318956',\n",
       "  '44618105',\n",
       "  '40250635',\n",
       "  '3739506',\n",
       "  '15159516',\n",
       "  '674625',\n",
       "  '6984195']]"
      ]
     },
     "execution_count": 8,
     "metadata": {},
     "output_type": "execute_result"
    }
   ],
   "source": [
    "f = open(\"census.csv\",'r')\n",
    "census = list(csv.reader(f))\n",
    "census = census[:2]\n",
    "census"
   ]
  },
  {
   "cell_type": "code",
   "execution_count": 9,
   "metadata": {},
   "outputs": [
    {
     "data": {
      "text/plain": [
       "{'Asian/Pacific Islander': 15834141,\n",
       " 'Black': 40250635,\n",
       " 'Hispanic': 44618105,\n",
       " 'Native American/Native Alaskan': 3739506,\n",
       " 'White': 197318956}"
      ]
     },
     "execution_count": 9,
     "metadata": {},
     "output_type": "execute_result"
    }
   ],
   "source": [
    "mapping = {}\n",
    "for i in range(-7,0):\n",
    "    census[1][i] = int(census[1][i])\n",
    "\n",
    "mapping[\"White\"] = census[1][-7]\n",
    "mapping[\"Hispanic\"] = census[1][-6]\n",
    "mapping[\"Black\"] = census[1][-5]\n",
    "mapping[\"Native American/Native Alaskan\"] = census[1][-4]\n",
    "mapping[\"Asian/Pacific Islander\"] = census[1][-2] + census[1][-3]\n",
    "mapping\n"
   ]
  },
  {
   "cell_type": "code",
   "execution_count": 10,
   "metadata": {},
   "outputs": [
    {
     "data": {
      "text/plain": [
       "{'Asian/Pacific Islander': 8.37,\n",
       " 'Black': 57.88,\n",
       " 'Hispanic': 20.22,\n",
       " 'Native American/Native Alaskan': 24.52,\n",
       " 'White': 33.57}"
      ]
     },
     "execution_count": 10,
     "metadata": {},
     "output_type": "execute_result"
    }
   ],
   "source": [
    "race_per_hundredk = {}\n",
    "for k, v in race_counts.items():\n",
    "    race_per_hundredk[k] = round(v / mapping[k] * 100000, 2)\n",
    "race_per_hundredk"
   ]
  },
  {
   "cell_type": "code",
   "execution_count": 11,
   "metadata": {
    "scrolled": true
   },
   "outputs": [
    {
     "name": "stdout",
     "output_type": "stream",
     "text": [
      "['Suicide', 'Suicide', 'Suicide', 'Suicide', 'Suicide']\n",
      "['Asian/Pacific Islander', 'White', 'White', 'White', 'White']\n"
     ]
    },
    {
     "data": {
      "text/plain": [
       "{'Asian/Pacific Islander': 559,\n",
       " 'Black': 19510,\n",
       " 'Hispanic': 5634,\n",
       " 'Native American/Native Alaskan': 326,\n",
       " 'White': 9147}"
      ]
     },
     "execution_count": 11,
     "metadata": {},
     "output_type": "execute_result"
    }
   ],
   "source": [
    "intents = [row[3] for row in data]\n",
    "races = [row[7] for row in data]\n",
    "print(intents[:5])\n",
    "print(races[:5])\n",
    "\n",
    "homicide_race_counts = {}\n",
    "for i, race in enumerate(races):\n",
    "    if intents[i] == \"Homicide\":\n",
    "        if race not in homicide_race_counts:\n",
    "            homicide_race_counts[race] = 1\n",
    "        else:\n",
    "            homicide_race_counts[race] += 1\n",
    "homicide_race_counts"
   ]
  },
  {
   "cell_type": "code",
   "execution_count": 12,
   "metadata": {},
   "outputs": [
    {
     "data": {
      "text/plain": [
       "{'Asian/Pacific Islander': 3.53,\n",
       " 'Black': 48.47,\n",
       " 'Hispanic': 12.63,\n",
       " 'Native American/Native Alaskan': 8.72,\n",
       " 'White': 4.64}"
      ]
     },
     "execution_count": 12,
     "metadata": {},
     "output_type": "execute_result"
    }
   ],
   "source": [
    "for k, v in homicide_race_counts.items():\n",
    "    homicide_race_counts[k] = round(v / mapping[k] * 100000, 2)\n",
    "homicide_race_counts"
   ]
  },
  {
   "cell_type": "markdown",
   "metadata": {},
   "source": [
    "# Analysis Pt. 2: Gun Death Rates by Race\n",
    "- Based on total counts, it looks like Whites are most susceptible to gun violence.\n",
    "- After examining each race on the same scale (per 100,000), the data shows that Blacks (48.5 per 100k) are most likely to be victims of gun violence compared to other races.\n",
    "- Looking at Homicides only, this disparity between Blacks and other races becomes more apparent. Homicide incidents are 12x more likely to occur to Black people than White people (4.6 per 100k) and 4x more likely than Hispanics (12.6 per 100k), the race with the second highest homicide rates.\n",
    "\n",
    "## Next Steps:\n",
    "1. Identify how other intents of gun violence incidents vary by race:\n",
    "> - Ratios of each intent per race\n",
    "> - Rates per hundred thousand of each intent\n",
    "\n",
    "2. Analyze trends in gun deaths over time\n",
    "> - Total gun deaths per year/month\n",
    "> - Total gun deaths per year/month categorized by intent\n",
    "> - Total gun deaths per year/month categorized by race\n",
    "\n",
    "3. Analyze correlations in education for groups with the highest gun deaths"
   ]
  },
  {
   "cell_type": "code",
   "execution_count": 13,
   "metadata": {},
   "outputs": [],
   "source": [
    "def rates_per_100k_race(intent):\n",
    "    intents = [row[3] for row in data]\n",
    "    races = [row[7] for row in data]\n",
    "    race_counts = {}\n",
    "    for i, race in enumerate(races):\n",
    "        if intents[i] == intent:\n",
    "            if race not in race_counts:\n",
    "                race_counts[race] = 1\n",
    "            else:\n",
    "                race_counts[race] += 1\n",
    "    for k, v in race_counts.items():\n",
    "        race_counts[k] = round(v / mapping[k] * 100000, 2)\n",
    "    return race_counts\n",
    "\n",
    "accidental_race_counts = rates_per_100k_race(\"Accidental\")\n",
    "suicide_race_counts = rates_per_100k_race(\"Suicide\")"
   ]
  },
  {
   "cell_type": "code",
   "execution_count": 14,
   "metadata": {},
   "outputs": [
    {
     "data": {
      "text/plain": [
       "{'Asian/Pacific Islander': 0.08,\n",
       " 'Black': 0.81,\n",
       " 'Hispanic': 0.32,\n",
       " 'Native American/Native Alaskan': 0.59,\n",
       " 'White': 0.57}"
      ]
     },
     "execution_count": 14,
     "metadata": {},
     "output_type": "execute_result"
    }
   ],
   "source": [
    "accidental_race_counts"
   ]
  },
  {
   "cell_type": "code",
   "execution_count": 15,
   "metadata": {},
   "outputs": [
    {
     "data": {
      "text/plain": [
       "{'Asian/Pacific Islander': 4.71,\n",
       " 'Black': 8.28,\n",
       " 'Hispanic': 7.11,\n",
       " 'Native American/Native Alaskan': 14.84,\n",
       " 'White': 28.06}"
      ]
     },
     "execution_count": 15,
     "metadata": {},
     "output_type": "execute_result"
    }
   ],
   "source": [
    "suicide_race_counts"
   ]
  },
  {
   "cell_type": "code",
   "execution_count": 16,
   "metadata": {},
   "outputs": [
    {
     "data": {
      "text/plain": [
       "[{'.Race': 'Black',\n",
       "  'Accidental': 1.41,\n",
       "  'Homicide': 83.75,\n",
       "  'Suicide': 14.3,\n",
       "  'Undetermined': 0.54},\n",
       " {'.Race': 'White',\n",
       "  'Accidental': 1.71,\n",
       "  'Homicide': 13.81,\n",
       "  'NA': 0.0,\n",
       "  'Suicide': 83.6,\n",
       "  'Undetermined': 0.88},\n",
       " {'.Race': 'Native American/Native Alaskan',\n",
       "  'Accidental': 2.4,\n",
       "  'Homicide': 35.55,\n",
       "  'Suicide': 60.52,\n",
       "  'Undetermined': 1.53},\n",
       " {'.Race': 'Hispanic',\n",
       "  'Accidental': 1.61,\n",
       "  'Homicide': 62.45,\n",
       "  'Suicide': 35.15,\n",
       "  'Undetermined': 0.8},\n",
       " {'.Race': 'Asian/Pacific Islander',\n",
       "  'Accidental': 0.9,\n",
       "  'Homicide': 42.16,\n",
       "  'Suicide': 56.18,\n",
       "  'Undetermined': 0.75}]"
      ]
     },
     "execution_count": 16,
     "metadata": {},
     "output_type": "execute_result"
    }
   ],
   "source": [
    "def intent_ratios(race):\n",
    "    intents = [row[3] for row in data]\n",
    "    races = [row[7] for row in data]\n",
    "    \n",
    "    # count gun incidents for each intent under given race input\n",
    "    counts = {}\n",
    "\n",
    "    for i, intent in enumerate(intents):\n",
    "        if races[i] == race:\n",
    "            if intent not in counts:\n",
    "                counts[intent] = 1\n",
    "            else:\n",
    "                counts[intent] += 1\n",
    "    \n",
    "    # calculate total counts per race in gun data\n",
    "    race_counts = {}\n",
    "    for row in data:\n",
    "        if row[7] not in race_counts:\n",
    "            race_counts[row[7]] = 1\n",
    "        else:\n",
    "            race_counts[row[7]] += 1\n",
    "    \n",
    "    # calculate ratios of each intent\n",
    "    for k, v in counts.items():\n",
    "        counts[k] = round(v / race_counts[race] * 100, 2)\n",
    "    \n",
    "    counts[\".Race\"] = race\n",
    "    return counts\n",
    "\n",
    "\n",
    "intent_ratios = [intent_ratios(race) for race in set(races)]\n",
    "intent_ratios\n"
   ]
  },
  {
   "cell_type": "code",
   "execution_count": 17,
   "metadata": {},
   "outputs": [
    {
     "name": "stdout",
     "output_type": "stream",
     "text": [
      "[datetime.datetime(2012, 1, 1, 0, 0), datetime.datetime(2012, 1, 1, 0, 0), datetime.datetime(2012, 1, 1, 0, 0), datetime.datetime(2012, 1, 1, 0, 0), datetime.datetime(2012, 1, 1, 0, 0)]\n"
     ]
    },
    {
     "data": {
      "text/plain": [
       "{datetime.datetime(2012, 1, 1, 0, 0): 33563,\n",
       " datetime.datetime(2013, 1, 1, 0, 0): 33636,\n",
       " datetime.datetime(2014, 1, 1, 0, 0): 33599}"
      ]
     },
     "execution_count": 17,
     "metadata": {},
     "output_type": "execute_result"
    }
   ],
   "source": [
    "# convert year columns to datetime objects\n",
    "import datetime as d\n",
    "dates = [d.datetime(year=int(row[1]), month=1, day=1) for row in data]\n",
    "print(dates[:5])\n",
    "\n",
    "# calculate total gun death counts by year\n",
    "date_counts = {}\n",
    "for date in dates:\n",
    "    if date not in date_counts:\n",
    "        date_counts[date] = 1\n",
    "    else:\n",
    "        date_counts[date] += 1\n",
    "date_counts"
   ]
  },
  {
   "cell_type": "code",
   "execution_count": 18,
   "metadata": {},
   "outputs": [
    {
     "data": {
      "text/plain": [
       "[['Intent: Undetermined',\n",
       "  (datetime.datetime(2012, 1, 1, 0, 0), 256),\n",
       "  (datetime.datetime(2013, 1, 1, 0, 0), 281),\n",
       "  (datetime.datetime(2014, 1, 1, 0, 0), 270)],\n",
       " ['Intent: Accidental',\n",
       "  (datetime.datetime(2012, 1, 1, 0, 0), 548),\n",
       "  (datetime.datetime(2013, 1, 1, 0, 0), 505),\n",
       "  (datetime.datetime(2014, 1, 1, 0, 0), 586)],\n",
       " ['Intent: NA', (datetime.datetime(2013, 1, 1, 0, 0), 1)],\n",
       " ['Intent: Homicide',\n",
       "  (datetime.datetime(2012, 1, 1, 0, 0), 12093),\n",
       "  (datetime.datetime(2013, 1, 1, 0, 0), 11674),\n",
       "  (datetime.datetime(2014, 1, 1, 0, 0), 11409)],\n",
       " ['Intent: Suicide',\n",
       "  (datetime.datetime(2012, 1, 1, 0, 0), 20666),\n",
       "  (datetime.datetime(2013, 1, 1, 0, 0), 21175),\n",
       "  (datetime.datetime(2014, 1, 1, 0, 0), 21334)]]"
      ]
     },
     "execution_count": 18,
     "metadata": {},
     "output_type": "execute_result"
    }
   ],
   "source": [
    "# calculates gun death counts by intent per unit: month or year\n",
    "# defaults to month if no unit given\n",
    "def intent_date_counts(intent, unit=\"year/month\"):\n",
    "    import datetime as d\n",
    "    dates = []\n",
    "    if unit == \"year\":\n",
    "        dates = [d.datetime(year=int(row[1]), month=1, day=1) for row in data]\n",
    "    else:\n",
    "        dates = [d.datetime(year=1, month=int(row[2]), day=1) for row in data]        \n",
    "    \n",
    "    intents = [row[3] for row in data]\n",
    "    \n",
    "    # count number of gun deaths by intent based on enumerated lists\n",
    "    date_counts = {}\n",
    "    for i, date in enumerate(dates):\n",
    "        if intents[i] == intent:\n",
    "            if date not in date_counts:\n",
    "                date_counts[date] = 1\n",
    "            else:\n",
    "                date_counts[date] += 1\n",
    "    \n",
    "    # create sorted lsit for representation\n",
    "    date_counts = sorted([(k, v) for k, v in date_counts.items()])\n",
    "    date_counts.insert(0,\"Intent: \" + intent)\n",
    "    \n",
    "    return date_counts\n",
    "\n",
    "intent_per_year = [intent_date_counts(intent, \"year\") for intent in set(intents)]\n",
    "intent_per_year"
   ]
  },
  {
   "cell_type": "code",
   "execution_count": 19,
   "metadata": {},
   "outputs": [
    {
     "data": {
      "text/plain": [
       "[['Intent: Undetermined',\n",
       "  (datetime.datetime(1, 1, 1, 0, 0), 72),\n",
       "  (datetime.datetime(1, 2, 1, 0, 0), 56),\n",
       "  (datetime.datetime(1, 3, 1, 0, 0), 66),\n",
       "  (datetime.datetime(1, 4, 1, 0, 0), 73),\n",
       "  (datetime.datetime(1, 5, 1, 0, 0), 72),\n",
       "  (datetime.datetime(1, 6, 1, 0, 0), 68),\n",
       "  (datetime.datetime(1, 7, 1, 0, 0), 57),\n",
       "  (datetime.datetime(1, 8, 1, 0, 0), 73),\n",
       "  (datetime.datetime(1, 9, 1, 0, 0), 81),\n",
       "  (datetime.datetime(1, 10, 1, 0, 0), 51),\n",
       "  (datetime.datetime(1, 11, 1, 0, 0), 78),\n",
       "  (datetime.datetime(1, 12, 1, 0, 0), 60)],\n",
       " ['Intent: Accidental',\n",
       "  (datetime.datetime(1, 1, 1, 0, 0), 152),\n",
       "  (datetime.datetime(1, 2, 1, 0, 0), 127),\n",
       "  (datetime.datetime(1, 3, 1, 0, 0), 134),\n",
       "  (datetime.datetime(1, 4, 1, 0, 0), 98),\n",
       "  (datetime.datetime(1, 5, 1, 0, 0), 115),\n",
       "  (datetime.datetime(1, 6, 1, 0, 0), 112),\n",
       "  (datetime.datetime(1, 7, 1, 0, 0), 149),\n",
       "  (datetime.datetime(1, 8, 1, 0, 0), 164),\n",
       "  (datetime.datetime(1, 9, 1, 0, 0), 118),\n",
       "  (datetime.datetime(1, 10, 1, 0, 0), 131),\n",
       "  (datetime.datetime(1, 11, 1, 0, 0), 160),\n",
       "  (datetime.datetime(1, 12, 1, 0, 0), 179)],\n",
       " ['Intent: NA', (datetime.datetime(1, 4, 1, 0, 0), 1)],\n",
       " ['Intent: Homicide',\n",
       "  (datetime.datetime(1, 1, 1, 0, 0), 2829),\n",
       "  (datetime.datetime(1, 2, 1, 0, 0), 2178),\n",
       "  (datetime.datetime(1, 3, 1, 0, 0), 2780),\n",
       "  (datetime.datetime(1, 4, 1, 0, 0), 2845),\n",
       "  (datetime.datetime(1, 5, 1, 0, 0), 2976),\n",
       "  (datetime.datetime(1, 6, 1, 0, 0), 3130),\n",
       "  (datetime.datetime(1, 7, 1, 0, 0), 3269),\n",
       "  (datetime.datetime(1, 8, 1, 0, 0), 3125),\n",
       "  (datetime.datetime(1, 9, 1, 0, 0), 2966),\n",
       "  (datetime.datetime(1, 10, 1, 0, 0), 2968),\n",
       "  (datetime.datetime(1, 11, 1, 0, 0), 2919),\n",
       "  (datetime.datetime(1, 12, 1, 0, 0), 3191)],\n",
       " ['Intent: Suicide',\n",
       "  (datetime.datetime(1, 1, 1, 0, 0), 5220),\n",
       "  (datetime.datetime(1, 2, 1, 0, 0), 4732),\n",
       "  (datetime.datetime(1, 3, 1, 0, 0), 5309),\n",
       "  (datetime.datetime(1, 4, 1, 0, 0), 5438),\n",
       "  (datetime.datetime(1, 5, 1, 0, 0), 5506),\n",
       "  (datetime.datetime(1, 6, 1, 0, 0), 5367),\n",
       "  (datetime.datetime(1, 7, 1, 0, 0), 5514),\n",
       "  (datetime.datetime(1, 8, 1, 0, 0), 5421),\n",
       "  (datetime.datetime(1, 9, 1, 0, 0), 5343),\n",
       "  (datetime.datetime(1, 10, 1, 0, 0), 5256),\n",
       "  (datetime.datetime(1, 11, 1, 0, 0), 5086),\n",
       "  (datetime.datetime(1, 12, 1, 0, 0), 4983)]]"
      ]
     },
     "execution_count": 19,
     "metadata": {},
     "output_type": "execute_result"
    }
   ],
   "source": [
    "intent_per_month = [intent_date_counts(intent, \"month\") for intent in set(intents)]\n",
    "intent_per_month"
   ]
  },
  {
   "cell_type": "code",
   "execution_count": 20,
   "metadata": {},
   "outputs": [
    {
     "data": {
      "text/plain": [
       "[['Race: Black',\n",
       "  (datetime.datetime(2012, 1, 1, 0, 0), 7946),\n",
       "  (datetime.datetime(2013, 1, 1, 0, 0), 7712),\n",
       "  (datetime.datetime(2014, 1, 1, 0, 0), 7638)],\n",
       " ['Race: White',\n",
       "  (datetime.datetime(2012, 1, 1, 0, 0), 21793),\n",
       "  (datetime.datetime(2013, 1, 1, 0, 0), 22222),\n",
       "  (datetime.datetime(2014, 1, 1, 0, 0), 22222)],\n",
       " ['Race: Native American/Native Alaskan',\n",
       "  (datetime.datetime(2012, 1, 1, 0, 0), 310),\n",
       "  (datetime.datetime(2013, 1, 1, 0, 0), 296),\n",
       "  (datetime.datetime(2014, 1, 1, 0, 0), 311)],\n",
       " ['Race: Hispanic',\n",
       "  (datetime.datetime(2012, 1, 1, 0, 0), 3061),\n",
       "  (datetime.datetime(2013, 1, 1, 0, 0), 2951),\n",
       "  (datetime.datetime(2014, 1, 1, 0, 0), 3010)],\n",
       " ['Race: Asian/Pacific Islander',\n",
       "  (datetime.datetime(2012, 1, 1, 0, 0), 453),\n",
       "  (datetime.datetime(2013, 1, 1, 0, 0), 455),\n",
       "  (datetime.datetime(2014, 1, 1, 0, 0), 418)]]"
      ]
     },
     "execution_count": 20,
     "metadata": {},
     "output_type": "execute_result"
    }
   ],
   "source": [
    "# calculates gun death counts by race per unit: month or year\n",
    "# defaults to month if no unit given\n",
    "def race_date_counts(race, unit=\"month\"):\n",
    "    import datetime as d\n",
    "    dates = []\n",
    "    if unit == \"year\":\n",
    "        dates = [d.datetime(year=int(row[1]), month=1, day=1) for row in data]\n",
    "    else:\n",
    "        dates = [d.datetime(year=1, month=int(row[2]), day=1) for row in data]        \n",
    "    \n",
    "    races = [row[7] for row in data]\n",
    "\n",
    "    # count number of gun deaths by intent based on enumerated lists\n",
    "    date_counts = {}\n",
    "    for i, date in enumerate(dates):\n",
    "        if races[i] == race:\n",
    "            if date not in date_counts:\n",
    "                date_counts[date] = 1\n",
    "            else:\n",
    "                date_counts[date] += 1\n",
    "    \n",
    "    # create sorted lsit for representation\n",
    "    date_counts = sorted([(k, v) for k, v in date_counts.items()])\n",
    "    date_counts.insert(0,\"Race: \" + race)\n",
    "    \n",
    "    return date_counts\n",
    "\n",
    "counts_per_year_by_race = [race_date_counts(race, \"year\") for race in set(races)]\n",
    "counts_per_year_by_race"
   ]
  },
  {
   "cell_type": "code",
   "execution_count": 21,
   "metadata": {},
   "outputs": [
    {
     "data": {
      "text/plain": [
       "[['Race: Black',\n",
       "  (datetime.datetime(1, 1, 1, 0, 0), 1887),\n",
       "  (datetime.datetime(1, 2, 1, 0, 0), 1415),\n",
       "  (datetime.datetime(1, 3, 1, 0, 0), 1797),\n",
       "  (datetime.datetime(1, 4, 1, 0, 0), 1921),\n",
       "  (datetime.datetime(1, 5, 1, 0, 0), 2035),\n",
       "  (datetime.datetime(1, 6, 1, 0, 0), 2057),\n",
       "  (datetime.datetime(1, 7, 1, 0, 0), 2220),\n",
       "  (datetime.datetime(1, 8, 1, 0, 0), 2071),\n",
       "  (datetime.datetime(1, 9, 1, 0, 0), 1966),\n",
       "  (datetime.datetime(1, 10, 1, 0, 0), 1954),\n",
       "  (datetime.datetime(1, 11, 1, 0, 0), 1884),\n",
       "  (datetime.datetime(1, 12, 1, 0, 0), 2089)],\n",
       " ['Race: White',\n",
       "  (datetime.datetime(1, 1, 1, 0, 0), 5462),\n",
       "  (datetime.datetime(1, 2, 1, 0, 0), 4910),\n",
       "  (datetime.datetime(1, 3, 1, 0, 0), 5607),\n",
       "  (datetime.datetime(1, 4, 1, 0, 0), 5608),\n",
       "  (datetime.datetime(1, 5, 1, 0, 0), 5741),\n",
       "  (datetime.datetime(1, 6, 1, 0, 0), 5634),\n",
       "  (datetime.datetime(1, 7, 1, 0, 0), 5770),\n",
       "  (datetime.datetime(1, 8, 1, 0, 0), 5668),\n",
       "  (datetime.datetime(1, 9, 1, 0, 0), 5621),\n",
       "  (datetime.datetime(1, 10, 1, 0, 0), 5501),\n",
       "  (datetime.datetime(1, 11, 1, 0, 0), 5371),\n",
       "  (datetime.datetime(1, 12, 1, 0, 0), 5344)],\n",
       " ['Race: Native American/Native Alaskan',\n",
       "  (datetime.datetime(1, 1, 1, 0, 0), 78),\n",
       "  (datetime.datetime(1, 2, 1, 0, 0), 73),\n",
       "  (datetime.datetime(1, 3, 1, 0, 0), 72),\n",
       "  (datetime.datetime(1, 4, 1, 0, 0), 81),\n",
       "  (datetime.datetime(1, 5, 1, 0, 0), 68),\n",
       "  (datetime.datetime(1, 6, 1, 0, 0), 72),\n",
       "  (datetime.datetime(1, 7, 1, 0, 0), 77),\n",
       "  (datetime.datetime(1, 8, 1, 0, 0), 75),\n",
       "  (datetime.datetime(1, 9, 1, 0, 0), 64),\n",
       "  (datetime.datetime(1, 10, 1, 0, 0), 85),\n",
       "  (datetime.datetime(1, 11, 1, 0, 0), 94),\n",
       "  (datetime.datetime(1, 12, 1, 0, 0), 78)],\n",
       " ['Race: Hispanic',\n",
       "  (datetime.datetime(1, 1, 1, 0, 0), 733),\n",
       "  (datetime.datetime(1, 2, 1, 0, 0), 608),\n",
       "  (datetime.datetime(1, 3, 1, 0, 0), 710),\n",
       "  (datetime.datetime(1, 4, 1, 0, 0), 739),\n",
       "  (datetime.datetime(1, 5, 1, 0, 0), 726),\n",
       "  (datetime.datetime(1, 6, 1, 0, 0), 785),\n",
       "  (datetime.datetime(1, 7, 1, 0, 0), 817),\n",
       "  (datetime.datetime(1, 8, 1, 0, 0), 849),\n",
       "  (datetime.datetime(1, 9, 1, 0, 0), 734),\n",
       "  (datetime.datetime(1, 10, 1, 0, 0), 745),\n",
       "  (datetime.datetime(1, 11, 1, 0, 0), 777),\n",
       "  (datetime.datetime(1, 12, 1, 0, 0), 799)],\n",
       " ['Race: Asian/Pacific Islander',\n",
       "  (datetime.datetime(1, 1, 1, 0, 0), 113),\n",
       "  (datetime.datetime(1, 2, 1, 0, 0), 87),\n",
       "  (datetime.datetime(1, 3, 1, 0, 0), 103),\n",
       "  (datetime.datetime(1, 4, 1, 0, 0), 106),\n",
       "  (datetime.datetime(1, 5, 1, 0, 0), 99),\n",
       "  (datetime.datetime(1, 6, 1, 0, 0), 129),\n",
       "  (datetime.datetime(1, 7, 1, 0, 0), 105),\n",
       "  (datetime.datetime(1, 8, 1, 0, 0), 120),\n",
       "  (datetime.datetime(1, 9, 1, 0, 0), 123),\n",
       "  (datetime.datetime(1, 10, 1, 0, 0), 121),\n",
       "  (datetime.datetime(1, 11, 1, 0, 0), 117),\n",
       "  (datetime.datetime(1, 12, 1, 0, 0), 103)]]"
      ]
     },
     "execution_count": 21,
     "metadata": {},
     "output_type": "execute_result"
    }
   ],
   "source": [
    "counts_per_month_by_race = [race_date_counts(race, \"month\") for race in set(races)]\n",
    "counts_per_month_by_race"
   ]
  },
  {
   "cell_type": "markdown",
   "metadata": {},
   "source": [
    "# Analysis Pt. 3: Conclusion\n",
    "\n",
    "## Gun deaths categorized by intent\n",
    "- After analyzing gun deaths by intent, the data shows that **Blacks have the highest rate of Accidental gun deaths (.81) and Homicide gun deaths (48.47) per 100,000; while Whites have the highest rate of Suicide gun deaths (28.3) per 100,000.**\n",
    "- These findings are further supported after looking at intent ratios by population as shown below. **83.75% of gun deaths among Blacks are Homicide related whereas 83.6% of gun deaths among Whites are Suicide related.**\n",
    "- Intent ratios by population show us that most gun deaths for each race (~95%) are either Homicide or Suicide related. Asians and Native American/Native Alaskans are more likely to be involved in Suicide related cases whereas Hispanics are more likely to be involved in Homicide related cases.\n",
    "\n",
    ">  **Race: Black**\n",
    "  'Accidental': 1.41,\n",
    "  'Homicide': 83.75,\n",
    "  'Suicide': 14.3,\n",
    "  'Undetermined': 0.54\n",
    "  \n",
    ">  **Race: White**\n",
    "  'Accidental': 1.71,\n",
    "  'Homicide': 13.81,\n",
    "  'NA': 0.0,\n",
    "  'Suicide': 83.6,\n",
    "  'Undetermined': 0.88\n",
    "  \n",
    ">  **Race: Asian/Pacific Islander**\n",
    "  'Accidental': 0.9,\n",
    "  'Homicide': 42.16,\n",
    "  'Suicide': 56.18,\n",
    "  'Undetermined': 0.75}\n",
    "  \n",
    "> **Race: Native American/Native Alaskan**\n",
    "  'Accidental': 2.4,\n",
    "  'Homicide': 35.55,\n",
    "  'Suicide': 60.52,\n",
    "  'Undetermined': 1.53\n",
    "  \n",
    "> **Race: Hispanic**\n",
    "  'Accidental': 1.61,\n",
    "  'Homicide': 62.45,\n",
    "  'Suicide': 35.15,\n",
    "  'Undetermined': 0.8\n",
    "  \n",
    "## Gun deaths categorized by dates\n",
    "- After analyzing gun deaths by year and intent, two things become evident:\n",
    "    1. **Homicide counts have slowly declined from 2012 to 2014.** While we don't have corresponding census data to show that rates per 100,000 are also decreasing, it might be safe to assume that rates are also decreasing since population has generally been increasing.\n",
    "    2. **Suicide counts have slowly increased from 2012 to 2014.** However, due to a lack of census data during these years, it's uncertain as to whether or not counts have increased along with popuation growth, or have actually increased due to higher suicide rates.\n",
    "\n",
    "> **Homicide gun deaths per year**\n",
    "   -  2012: 12,093\n",
    "   -  2013: 11,674\n",
    "   -  2014: 11,409\n",
    "  \n",
    "> **Suicide gun deaths per year**\n",
    "  -  2012: 20,666\n",
    "  -  2013: 21,175\n",
    "  -  2014: 21,334\n"
   ]
  },
  {
   "cell_type": "code",
   "execution_count": null,
   "metadata": {
    "collapsed": true
   },
   "outputs": [],
   "source": []
  }
 ],
 "metadata": {
  "kernelspec": {
   "display_name": "Python 3",
   "language": "python",
   "name": "python3"
  },
  "language_info": {
   "codemirror_mode": {
    "name": "ipython",
    "version": 3
   },
   "file_extension": ".py",
   "mimetype": "text/x-python",
   "name": "python",
   "nbconvert_exporter": "python",
   "pygments_lexer": "ipython3",
   "version": "3.6.1"
  }
 },
 "nbformat": 4,
 "nbformat_minor": 1
}
